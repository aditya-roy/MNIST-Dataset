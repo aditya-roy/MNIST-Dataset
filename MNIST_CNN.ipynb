{
 "cells": [
  {
   "cell_type": "code",
   "execution_count": 3,
   "metadata": {
    "colab": {
     "base_uri": "https://localhost:8080/",
     "height": 36
    },
    "colab_type": "code",
    "id": "htWileDUFknd",
    "outputId": "2993b0ef-3dae-4dcf-d6f8-7184ac7b9267"
   },
   "outputs": [
    {
     "name": "stderr",
     "output_type": "stream",
     "text": [
      "Using TensorFlow backend.\n"
     ]
    }
   ],
   "source": [
    "# Credits: https://github.com/keras-team/keras/blob/master/examples/mnist_cnn.py\n",
    "from datetime import datetime\n",
    "import keras\n",
    "from keras.datasets import mnist\n",
    "from keras.models import Sequential\n",
    "from keras.layers import Dense, Dropout, Flatten\n",
    "from keras.layers import Conv2D, MaxPooling2D\n",
    "from keras import backend as K\n",
    "from keras.initializers import he_normal\n",
    "from keras.layers.normalization import BatchNormalization\n",
    "\n",
    "batch_size = 128\n",
    "num_classes = 10\n",
    "epochs = 12\n",
    "# input image dimensions\n",
    "img_rows, img_cols = 28, 28"
   ]
  },
  {
   "cell_type": "code",
   "execution_count": 4,
   "metadata": {
    "colab": {
     "base_uri": "https://localhost:8080/",
     "height": 54
    },
    "colab_type": "code",
    "id": "jZ8ZPyx9FodF",
    "outputId": "5cfc9a1f-5191-4d47-b03f-f9590e98fca3"
   },
   "outputs": [
    {
     "name": "stdout",
     "output_type": "stream",
     "text": [
      "Downloading data from https://s3.amazonaws.com/img-datasets/mnist.npz\n",
      "11493376/11490434 [==============================] - 1s 0us/step\n"
     ]
    }
   ],
   "source": [
    "(x_train, y_train), (x_test, y_test) = mnist.load_data()"
   ]
  },
  {
   "cell_type": "code",
   "execution_count": 5,
   "metadata": {
    "colab": {
     "base_uri": "https://localhost:8080/",
     "height": 73
    },
    "colab_type": "code",
    "id": "fV4p6QMaFroE",
    "outputId": "9aaa5b40-47af-446c-b696-83bde84ac89d"
   },
   "outputs": [
    {
     "name": "stdout",
     "output_type": "stream",
     "text": [
      "x_train shape: (60000, 28, 28, 1)\n",
      "60000 train samples\n",
      "10000 test samples\n"
     ]
    }
   ],
   "source": [
    "if K.image_data_format() == 'channels_first':\n",
    "    x_train = x_train.reshape(x_train.shape[0], 1, img_rows, img_cols)\n",
    "    x_test = x_test.reshape(x_test.shape[0], 1, img_rows, img_cols)\n",
    "    input_shape = (1, img_rows, img_cols)\n",
    "else:\n",
    "    x_train = x_train.reshape(x_train.shape[0], img_rows, img_cols, 1)\n",
    "    x_test = x_test.reshape(x_test.shape[0], img_rows, img_cols, 1)\n",
    "    input_shape = (img_rows, img_cols, 1)\n",
    "\n",
    "x_train = x_train.astype('float32')\n",
    "x_test = x_test.astype('float32')\n",
    "x_train /= 255\n",
    "x_test /= 255\n",
    "print('x_train shape:', x_train.shape)\n",
    "print(x_train.shape[0], 'train samples')\n",
    "print(x_test.shape[0], 'test samples')\n",
    "\n",
    "# convert class vectors to binary class matrices\n",
    "y_train = keras.utils.to_categorical(y_train, num_classes)\n",
    "y_test = keras.utils.to_categorical(y_test, num_classes)"
   ]
  },
  {
   "cell_type": "code",
   "execution_count": 6,
   "metadata": {
    "colab": {
     "base_uri": "https://localhost:8080/",
     "height": 36
    },
    "colab_type": "code",
    "id": "Ml3VTpa9F4Lg",
    "outputId": "c230c5ed-c408-4350-f1db-ae9fba25f69c"
   },
   "outputs": [
    {
     "name": "stdout",
     "output_type": "stream",
     "text": [
      "(60000, 10)\n"
     ]
    }
   ],
   "source": [
    "print(y_train.shape)"
   ]
  },
  {
   "cell_type": "code",
   "execution_count": 0,
   "metadata": {
    "colab": {},
    "colab_type": "code",
    "id": "lKRYU27qF6p2"
   },
   "outputs": [],
   "source": [
    "%matplotlib inline\n",
    "import matplotlib.pyplot as plt\n",
    "import numpy as np\n",
    "import time\n",
    "# https://gist.github.com/greydanus/f6eee59eaf1d90fcb3b534a25362cea4\n",
    "# https://stackoverflow.com/a/14434334\n",
    "# this function is used to update the plots for each epoch and error\n",
    "def plt_dynamic(x, vy, ty):\n",
    "  fig = plt.figure( facecolor='y', edgecolor='k')\n",
    "  plt.plot(x, vy, 'b', label=\"Validation Loss\")\n",
    "  plt.plot(x, ty, 'r', label=\"Train Loss\")\n",
    "  plt.xlabel('Epochs') \n",
    "  plt.ylabel('Categorical Crossentropy Loss')\n",
    "  plt.legend()\n",
    "  plt.grid()\n",
    "  plt.show()"
   ]
  },
  {
   "cell_type": "markdown",
   "metadata": {
    "colab_type": "text",
    "id": "JnQiisyyH1Mj"
   },
   "source": [
    "#Model 1: CNN with 3 ConvNets and 3X3 Kernel size."
   ]
  },
  {
   "cell_type": "code",
   "execution_count": 8,
   "metadata": {
    "colab": {
     "base_uri": "https://localhost:8080/",
     "height": 647
    },
    "colab_type": "code",
    "id": "p5bzMG8EH-mk",
    "outputId": "63b4d2d0-48a3-4e1c-cd46-7129bb0dbec3"
   },
   "outputs": [
    {
     "name": "stdout",
     "output_type": "stream",
     "text": [
      "WARNING:tensorflow:From /usr/local/lib/python3.6/dist-packages/tensorflow/python/framework/op_def_library.py:263: colocate_with (from tensorflow.python.framework.ops) is deprecated and will be removed in a future version.\n",
      "Instructions for updating:\n",
      "Colocations handled automatically by placer.\n",
      "WARNING:tensorflow:From /usr/local/lib/python3.6/dist-packages/keras/backend/tensorflow_backend.py:3445: calling dropout (from tensorflow.python.ops.nn_ops) with keep_prob is deprecated and will be removed in a future version.\n",
      "Instructions for updating:\n",
      "Please use `rate` instead of `keep_prob`. Rate should be set to `rate = 1 - keep_prob`.\n",
      "_________________________________________________________________\n",
      "Layer (type)                 Output Shape              Param #   \n",
      "=================================================================\n",
      "conv2d_1 (Conv2D)            (None, 26, 26, 32)        320       \n",
      "_________________________________________________________________\n",
      "conv2d_2 (Conv2D)            (None, 24, 24, 64)        18496     \n",
      "_________________________________________________________________\n",
      "dropout_1 (Dropout)          (None, 24, 24, 64)        0         \n",
      "_________________________________________________________________\n",
      "conv2d_3 (Conv2D)            (None, 22, 22, 128)       73856     \n",
      "_________________________________________________________________\n",
      "max_pooling2d_1 (MaxPooling2 (None, 11, 11, 128)       0         \n",
      "_________________________________________________________________\n",
      "dropout_2 (Dropout)          (None, 11, 11, 128)       0         \n",
      "_________________________________________________________________\n",
      "flatten_1 (Flatten)          (None, 15488)             0         \n",
      "_________________________________________________________________\n",
      "dense_1 (Dense)              (None, 256)               3965184   \n",
      "_________________________________________________________________\n",
      "dropout_3 (Dropout)          (None, 256)               0         \n",
      "_________________________________________________________________\n",
      "dense_2 (Dense)              (None, 10)                2570      \n",
      "=================================================================\n",
      "Total params: 4,060,426\n",
      "Trainable params: 4,060,426\n",
      "Non-trainable params: 0\n",
      "_________________________________________________________________\n",
      "None\n"
     ]
    }
   ],
   "source": [
    "convnet3=Sequential() # Initializing the model\n",
    "\n",
    "# First ConvNet\n",
    "convnet3.add(Conv2D(32,kernel_size=(3,3),activation='relu',input_shape=input_shape))\n",
    "convnet3.add(Conv2D(64,kernel_size=(3,3),activation='relu'))\n",
    "convnet3.add(Dropout(0.25))\n",
    "convnet3.add(Conv2D(128,kernel_size=(3,3), activation='relu'))\n",
    "\n",
    "#maxpooling by (2,2 ) ,dropout,flattening\n",
    "convnet3.add(MaxPooling2D(pool_size=(2,2)))\n",
    "convnet3.add(Dropout(0.25))\n",
    "convnet3.add(Flatten())\n",
    "\n",
    "#hidden_layer\n",
    "convnet3.add(Dense(256, activation='relu', kernel_initializer=he_normal(seed=None)))\n",
    "convnet3.add(Dropout(0.5))\n",
    "convnet3.add(Dense(num_classes,activation='softmax'))\n",
    "print(convnet3.summary())"
   ]
  },
  {
   "cell_type": "markdown",
   "metadata": {
    "colab_type": "text",
    "id": "0Vhr_hoaxegA"
   },
   "source": [
    "##Model Compilation"
   ]
  },
  {
   "cell_type": "code",
   "execution_count": 9,
   "metadata": {
    "colab": {
     "base_uri": "https://localhost:8080/",
     "height": 554
    },
    "colab_type": "code",
    "id": "cuJKj47aISDq",
    "outputId": "19a2296d-ebbb-4999-e624-312f23ff1f57"
   },
   "outputs": [
    {
     "name": "stdout",
     "output_type": "stream",
     "text": [
      "WARNING:tensorflow:From /usr/local/lib/python3.6/dist-packages/tensorflow/python/ops/math_ops.py:3066: to_int32 (from tensorflow.python.ops.math_ops) is deprecated and will be removed in a future version.\n",
      "Instructions for updating:\n",
      "Use tf.cast instead.\n",
      "Train on 60000 samples, validate on 10000 samples\n",
      "Epoch 1/12\n",
      "60000/60000 [==============================] - 515s 9ms/step - loss: 0.1783 - acc: 0.9450 - val_loss: 0.0405 - val_acc: 0.9862\n",
      "Epoch 2/12\n",
      "60000/60000 [==============================] - 512s 9ms/step - loss: 0.0608 - acc: 0.9814 - val_loss: 0.0347 - val_acc: 0.9892\n",
      "Epoch 3/12\n",
      "60000/60000 [==============================] - 513s 9ms/step - loss: 0.0471 - acc: 0.9855 - val_loss: 0.0285 - val_acc: 0.9905\n",
      "Epoch 4/12\n",
      "60000/60000 [==============================] - 515s 9ms/step - loss: 0.0358 - acc: 0.9889 - val_loss: 0.0276 - val_acc: 0.9903\n",
      "Epoch 5/12\n",
      "60000/60000 [==============================] - 516s 9ms/step - loss: 0.0314 - acc: 0.9904 - val_loss: 0.0272 - val_acc: 0.9904\n",
      "Epoch 6/12\n",
      "60000/60000 [==============================] - 514s 9ms/step - loss: 0.0266 - acc: 0.9912 - val_loss: 0.0243 - val_acc: 0.9928\n",
      "Epoch 7/12\n",
      "60000/60000 [==============================] - 513s 9ms/step - loss: 0.0227 - acc: 0.9930 - val_loss: 0.0233 - val_acc: 0.9936\n",
      "Epoch 8/12\n",
      "60000/60000 [==============================] - 514s 9ms/step - loss: 0.0195 - acc: 0.9934 - val_loss: 0.0254 - val_acc: 0.9927\n",
      "Epoch 9/12\n",
      "60000/60000 [==============================] - 512s 9ms/step - loss: 0.0203 - acc: 0.9934 - val_loss: 0.0210 - val_acc: 0.9940\n",
      "Epoch 10/12\n",
      "60000/60000 [==============================] - 511s 9ms/step - loss: 0.0173 - acc: 0.9943 - val_loss: 0.0237 - val_acc: 0.9937\n",
      "Epoch 11/12\n",
      "60000/60000 [==============================] - 511s 9ms/step - loss: 0.0153 - acc: 0.9950 - val_loss: 0.0219 - val_acc: 0.9930\n",
      "Epoch 12/12\n",
      "60000/60000 [==============================] - 511s 9ms/step - loss: 0.0144 - acc: 0.9954 - val_loss: 0.0252 - val_acc: 0.9927\n",
      "Time taken to run this cell : 1:42:38.202782\n"
     ]
    }
   ],
   "source": [
    "start=datetime.now()\n",
    "convnet3.compile(optimizer=keras.optimizers.Adam(), loss=keras.losses.categorical_crossentropy, metrics=['accuracy'])\n",
    "convnet3_history=convnet3.fit(x_train,y_train,batch_size=batch_size, epochs=epochs, verbose=1, validation_data=(x_test, y_test))\n",
    "print(\"Time taken to run this cell :\", datetime.now() - start)"
   ]
  },
  {
   "cell_type": "markdown",
   "metadata": {
    "colab_type": "text",
    "id": "meFWkA27xov3"
   },
   "source": [
    "##Model Evaluation"
   ]
  },
  {
   "cell_type": "code",
   "execution_count": 0,
   "metadata": {
    "colab": {
     "base_uri": "https://localhost:8080/",
     "height": 319
    },
    "colab_type": "code",
    "id": "_pnY0_RmxpZH",
    "outputId": "0911ed78-167b-44aa-ffd7-a6598edceed2"
   },
   "outputs": [
    {
     "name": "stdout",
     "output_type": "stream",
     "text": [
      "test score : 0.023814157019101594\n",
      "test sccuracy : 0.9933\n"
     ]
    },
    {
     "data": {
      "image/png": "[encoded data removed]",
      "text/plain": [
       "<Figure size 432x288 with 1 Axes>"
      ]
     },
     "metadata": {
      "tags": []
     },
     "output_type": "display_data"
    }
   ],
   "source": [
    "score=convnet3.evaluate(x_test,y_test,verbose=0)\n",
    "test_score3=score[0]\n",
    "test_accuracy3=score[1]\n",
    "train_accuracy3=max(convnet3_history.history['acc'])\n",
    "print('test score :',test_score3)\n",
    "print('test sccuracy :',test_accuracy3)\n",
    "# error plot\n",
    "x=list(range(1,epochs+1))\n",
    "vy=convnet3_history.history['val_loss'] #validation loss\n",
    "ty=convnet3_history.history['loss'] # train loss\n",
    "plt_dynamic(x, vy, ty)"
   ]
  },
  {
   "cell_type": "markdown",
   "metadata": {
    "colab_type": "text",
    "id": "TS1R3g1ZxxrM"
   },
   "source": [
    "#Model 2: CNN with 5 ConvNets and 5X5 Kernel size."
   ]
  },
  {
   "cell_type": "code",
   "execution_count": 0,
   "metadata": {
    "colab": {
     "base_uri": "https://localhost:8080/",
     "height": 971
    },
    "colab_type": "code",
    "id": "zrLd_V5_x632",
    "outputId": "0aa4c4f6-ee2c-4ac4-9203-8dcf78bbea70"
   },
   "outputs": [
    {
     "name": "stdout",
     "output_type": "stream",
     "text": [
      "WARNING:tensorflow:From /usr/local/lib/python3.6/dist-packages/tensorflow/python/framework/op_def_library.py:263: colocate_with (from tensorflow.python.framework.ops) is deprecated and will be removed in a future version.\n",
      "Instructions for updating:\n",
      "Colocations handled automatically by placer.\n",
      "WARNING:tensorflow:From /usr/local/lib/python3.6/dist-packages/keras/backend/tensorflow_backend.py:3445: calling dropout (from tensorflow.python.ops.nn_ops) with keep_prob is deprecated and will be removed in a future version.\n",
      "Instructions for updating:\n",
      "Please use `rate` instead of `keep_prob`. Rate should be set to `rate = 1 - keep_prob`.\n",
      "_________________________________________________________________\n",
      "Layer (type)                 Output Shape              Param #   \n",
      "=================================================================\n",
      "conv2d_1 (Conv2D)            (None, 28, 28, 32)        832       \n",
      "_________________________________________________________________\n",
      "conv2d_2 (Conv2D)            (None, 28, 28, 64)        51264     \n",
      "_________________________________________________________________\n",
      "max_pooling2d_1 (MaxPooling2 (None, 14, 14, 64)        0         \n",
      "_________________________________________________________________\n",
      "dropout_1 (Dropout)          (None, 14, 14, 64)        0         \n",
      "_________________________________________________________________\n",
      "conv2d_3 (Conv2D)            (None, 14, 14, 96)        153696    \n",
      "_________________________________________________________________\n",
      "max_pooling2d_2 (MaxPooling2 (None, 7, 7, 96)          0         \n",
      "_________________________________________________________________\n",
      "dropout_2 (Dropout)          (None, 7, 7, 96)          0         \n",
      "_________________________________________________________________\n",
      "conv2d_4 (Conv2D)            (None, 7, 7, 128)         307328    \n",
      "_________________________________________________________________\n",
      "max_pooling2d_3 (MaxPooling2 (None, 3, 3, 128)         0         \n",
      "_________________________________________________________________\n",
      "dropout_3 (Dropout)          (None, 3, 3, 128)         0         \n",
      "_________________________________________________________________\n",
      "conv2d_5 (Conv2D)            (None, 3, 3, 164)         524964    \n",
      "_________________________________________________________________\n",
      "max_pooling2d_4 (MaxPooling2 (None, 1, 1, 164)         0         \n",
      "_________________________________________________________________\n",
      "dropout_4 (Dropout)          (None, 1, 1, 164)         0         \n",
      "_________________________________________________________________\n",
      "flatten_1 (Flatten)          (None, 164)               0         \n",
      "_________________________________________________________________\n",
      "dense_1 (Dense)              (None, 256)               42240     \n",
      "_________________________________________________________________\n",
      "batch_normalization_1 (Batch (None, 256)               1024      \n",
      "_________________________________________________________________\n",
      "dropout_5 (Dropout)          (None, 256)               0         \n",
      "_________________________________________________________________\n",
      "dense_2 (Dense)              (None, 10)                2570      \n",
      "=================================================================\n",
      "Total params: 1,083,918\n",
      "Trainable params: 1,083,406\n",
      "Non-trainable params: 512\n",
      "_________________________________________________________________\n",
      "None\n"
     ]
    }
   ],
   "source": [
    "convnet5=Sequential() # Initializing the model\n",
    "\n",
    "# First ConvNet\n",
    "convnet5.add(Conv2D(32,kernel_size=(5,5), activation='relu', padding='same', input_shape=input_shape))\n",
    "\n",
    "#Second ConvNet\n",
    "convnet5.add(Conv2D(64,kernel_size=(5,5),padding='same',activation='relu'))\n",
    "convnet5.add(MaxPooling2D(pool_size=(2,2)))\n",
    "convnet5.add(Dropout(0.25))\n",
    "\n",
    "#Third ConvNet\n",
    "convnet5.add(Conv2D(96,kernel_size=(5,5),padding='same',activation='relu'))\n",
    "#maxpooling by (2,2 ) ,dropout,flattening\n",
    "convnet5.add(MaxPooling2D(pool_size=(2,2)))\n",
    "convnet5.add(Dropout(0.25))\n",
    "\n",
    "#Fourth ConvNet\n",
    "convnet5.add(Conv2D(128,kernel_size=(5,5), padding='same', activation='relu'))\n",
    "convnet5.add(MaxPooling2D(pool_size=(2,2)))\n",
    "convnet5.add(Dropout(0.25))\n",
    "\n",
    "#fifth Convnet\n",
    "convnet5.add(Conv2D(164,kernel_size=(5,5), padding='same', activation='relu'))\n",
    "convnet5.add(MaxPooling2D(pool_size=(2,2)))\n",
    "convnet5.add(Dropout(0.25))\n",
    "convnet5.add(Flatten())\n",
    "\n",
    "#hidden_layer\n",
    "convnet5.add(Dense(256, activation='relu', kernel_initializer=he_normal(seed=None)))\n",
    "convnet5.add(BatchNormalization())\n",
    "convnet5.add(Dropout(0.5))\n",
    "convnet5.add(Dense(num_classes,activation='softmax'))\n",
    "print(convnet5.summary())"
   ]
  },
  {
   "cell_type": "markdown",
   "metadata": {
    "colab_type": "text",
    "id": "DZT2_iRd1GCj"
   },
   "source": [
    "##Model Compilation"
   ]
  },
  {
   "cell_type": "code",
   "execution_count": 0,
   "metadata": {
    "colab": {
     "base_uri": "https://localhost:8080/",
     "height": 579
    },
    "colab_type": "code",
    "id": "BhM0Vk1nxr34",
    "outputId": "a6629241-9fa2-4932-b036-72d16650e6a3"
   },
   "outputs": [
    {
     "name": "stdout",
     "output_type": "stream",
     "text": [
      "WARNING:tensorflow:From /usr/local/lib/python3.6/dist-packages/tensorflow/python/ops/math_ops.py:3066: to_int32 (from tensorflow.python.ops.math_ops) is deprecated and will be removed in a future version.\n",
      "Instructions for updating:\n",
      "Use tf.cast instead.\n",
      "Train on 60000 samples, validate on 10000 samples\n",
      "Epoch 1/12\n",
      "60000/60000 [==============================] - 843s 14ms/step - loss: 2.4664 - acc: 0.1728 - val_loss: 2.6763 - val_acc: 0.1114\n",
      "Epoch 2/12\n",
      "60000/60000 [==============================] - 840s 14ms/step - loss: 1.9119 - acc: 0.2926 - val_loss: 1.3380 - val_acc: 0.5081\n",
      "Epoch 3/12\n",
      "60000/60000 [==============================] - 817s 14ms/step - loss: 1.1535 - acc: 0.5858 - val_loss: 0.8421 - val_acc: 0.7205\n",
      "Epoch 4/12\n",
      "60000/60000 [==============================] - 803s 13ms/step - loss: 0.6639 - acc: 0.7837 - val_loss: 0.3669 - val_acc: 0.8843\n",
      "Epoch 5/12\n",
      "60000/60000 [==============================] - 811s 14ms/step - loss: 0.4424 - acc: 0.8605 - val_loss: 0.2923 - val_acc: 0.9056\n",
      "Epoch 6/12\n",
      "60000/60000 [==============================] - 785s 13ms/step - loss: 0.3275 - acc: 0.8986 - val_loss: 0.1812 - val_acc: 0.9409\n",
      "Epoch 7/12\n",
      "60000/60000 [==============================] - 772s 13ms/step - loss: 0.2779 - acc: 0.9131 - val_loss: 0.1614 - val_acc: 0.9466\n",
      "Epoch 8/12\n",
      "60000/60000 [==============================] - 773s 13ms/step - loss: 0.1989 - acc: 0.9387 - val_loss: 0.0968 - val_acc: 0.9707\n",
      "Epoch 9/12\n",
      "60000/60000 [==============================] - 737s 12ms/step - loss: 0.1471 - acc: 0.9553 - val_loss: 0.0644 - val_acc: 0.9785\n",
      "Epoch 10/12\n",
      "60000/60000 [==============================] - 743s 12ms/step - loss: 0.1208 - acc: 0.9637 - val_loss: 0.0545 - val_acc: 0.9833\n",
      "Epoch 11/12\n",
      "60000/60000 [==============================] - 818s 14ms/step - loss: 0.1005 - acc: 0.9713 - val_loss: 0.0454 - val_acc: 0.9871\n",
      "Epoch 12/12\n",
      "60000/60000 [==============================] - 843s 14ms/step - loss: 0.0895 - acc: 0.9730 - val_loss: 0.0482 - val_acc: 0.9860\n",
      "Time taken to run this cell : 2:39:47.573903\n"
     ]
    }
   ],
   "source": [
    "start = datetime.now()\n",
    "convnet5.compile(optimizer=keras.optimizers.Adam(), loss=keras.losses.categorical_crossentropy, metrics=['accuracy'])\n",
    "convnet5_history=convnet5.fit(x_train,y_train,batch_size=batch_size, epochs=epochs, verbose=1, validation_data=(x_test, y_test))\n",
    "print(\"Time taken to run this cell :\", datetime.now() - start)"
   ]
  },
  {
   "cell_type": "markdown",
   "metadata": {
    "colab_type": "text",
    "id": "kwC41gsi1Vwv"
   },
   "source": [
    "##Model Evaluation"
   ]
  },
  {
   "cell_type": "code",
   "execution_count": 0,
   "metadata": {
    "colab": {
     "base_uri": "https://localhost:8080/",
     "height": 320
    },
    "colab_type": "code",
    "id": "Mj3Sch1Mxaea",
    "outputId": "81c3a23a-36be-4a48-ee4b-bae525094cc0"
   },
   "outputs": [
    {
     "name": "stdout",
     "output_type": "stream",
     "text": [
      "test score : 0.048168362715619154\n",
      "test Accuracy : 0.986\n"
     ]
    },
    {
     "data": {
      "image/png": "[encoded data removed]",
      "text/plain": [
       "<Figure size 432x288 with 1 Axes>"
      ]
     },
     "metadata": {
      "tags": []
     },
     "output_type": "display_data"
    }
   ],
   "source": [
    "score=convnet5.evaluate(x_test,y_test,verbose=0)\n",
    "test_score5=score[0]\n",
    "test_accuracy5=score[1]\n",
    "train_accuracy5=max(convnet5_history.history['acc'])\n",
    "print('test score :',test_score5)\n",
    "print('test Accuracy :',test_accuracy5)\n",
    "# error plot\n",
    "x=list(range(1,epochs+1))\n",
    "vy=convnet5_history.history['val_loss'] #validation loss\n",
    "ty=convnet5_history.history['loss'] # train loss\n",
    "plt_dynamic(x, vy, ty)"
   ]
  },
  {
   "cell_type": "markdown",
   "metadata": {
    "colab_type": "text",
    "id": "-cM2tvwv1epe"
   },
   "source": [
    "#Model 3: CNN with 7 ConvNets and2X2 Kernel size.\n"
   ]
  },
  {
   "cell_type": "code",
   "execution_count": 0,
   "metadata": {
    "colab": {
     "base_uri": "https://localhost:8080/",
     "height": 1101
    },
    "colab_type": "code",
    "id": "v7eYRKpS1olo",
    "outputId": "3fc7dd49-c96d-414d-cfbe-852bead3dc59"
   },
   "outputs": [
    {
     "name": "stdout",
     "output_type": "stream",
     "text": [
      "_________________________________________________________________\n",
      "Layer (type)                 Output Shape              Param #   \n",
      "=================================================================\n",
      "conv2d_6 (Conv2D)            (None, 28, 28, 16)        80        \n",
      "_________________________________________________________________\n",
      "conv2d_7 (Conv2D)            (None, 14, 14, 32)        2080      \n",
      "_________________________________________________________________\n",
      "conv2d_8 (Conv2D)            (None, 14, 14, 64)        8256      \n",
      "_________________________________________________________________\n",
      "dropout_6 (Dropout)          (None, 14, 14, 64)        0         \n",
      "_________________________________________________________________\n",
      "conv2d_9 (Conv2D)            (None, 14, 14, 96)        24672     \n",
      "_________________________________________________________________\n",
      "max_pooling2d_5 (MaxPooling2 (None, 7, 7, 96)          0         \n",
      "_________________________________________________________________\n",
      "dropout_7 (Dropout)          (None, 7, 7, 96)          0         \n",
      "_________________________________________________________________\n",
      "conv2d_10 (Conv2D)           (None, 7, 7, 128)         49280     \n",
      "_________________________________________________________________\n",
      "max_pooling2d_6 (MaxPooling2 (None, 3, 3, 128)         0         \n",
      "_________________________________________________________________\n",
      "dropout_8 (Dropout)          (None, 3, 3, 128)         0         \n",
      "_________________________________________________________________\n",
      "conv2d_11 (Conv2D)           (None, 3, 3, 164)         84132     \n",
      "_________________________________________________________________\n",
      "conv2d_12 (Conv2D)           (None, 3, 3, 164)         107748    \n",
      "_________________________________________________________________\n",
      "max_pooling2d_7 (MaxPooling2 (None, 1, 1, 164)         0         \n",
      "_________________________________________________________________\n",
      "dropout_9 (Dropout)          (None, 1, 1, 164)         0         \n",
      "_________________________________________________________________\n",
      "flatten_2 (Flatten)          (None, 164)               0         \n",
      "_________________________________________________________________\n",
      "dense_3 (Dense)              (None, 256)               42240     \n",
      "_________________________________________________________________\n",
      "batch_normalization_2 (Batch (None, 256)               1024      \n",
      "_________________________________________________________________\n",
      "dropout_10 (Dropout)         (None, 256)               0         \n",
      "_________________________________________________________________\n",
      "dense_4 (Dense)              (None, 148)               38036     \n",
      "_________________________________________________________________\n",
      "batch_normalization_3 (Batch (None, 148)               592       \n",
      "_________________________________________________________________\n",
      "dropout_11 (Dropout)         (None, 148)               0         \n",
      "_________________________________________________________________\n",
      "dense_5 (Dense)              (None, 128)               19072     \n",
      "_________________________________________________________________\n",
      "batch_normalization_4 (Batch (None, 128)               512       \n",
      "_________________________________________________________________\n",
      "dropout_12 (Dropout)         (None, 128)               0         \n",
      "_________________________________________________________________\n",
      "dense_6 (Dense)              (None, 10)                1290      \n",
      "=================================================================\n",
      "Total params: 379,014\n",
      "Trainable params: 377,950\n",
      "Non-trainable params: 1,064\n",
      "_________________________________________________________________\n",
      "None\n"
     ]
    }
   ],
   "source": [
    "convnet7=Sequential() # Initializing the model\n",
    "\n",
    "# First ConvNet\n",
    "convnet7.add(Conv2D(16,kernel_size=(2,2), activation='relu', padding='same', input_shape=input_shape))\n",
    "\n",
    "#Second Convnet\n",
    "convnet7.add(Conv2D(32,kernel_size=(2,2), padding='same',strides=(2,2), activation='relu'))\n",
    "#convnet7.add(MaxPooling2D(pool_size=(2,2)))\n",
    "#convnet7.add(Dropout(0.25))\n",
    "\n",
    "# 3rd ConvNet\n",
    "convnet7.add(Conv2D(64,kernel_size=(2,2), padding='same', activation='relu'))  \n",
    "#maxpooling by (2,2 ) ,dropout,flattening\n",
    "#convnet7.add(MaxPooling2D(pool_size=(2,2)))\n",
    "convnet7.add(Dropout(0.15))\n",
    "\n",
    "#fourth Convnet\n",
    "convnet7.add(Conv2D(96,kernel_size=(2,2), padding='same', activation='relu'))\n",
    "convnet7.add(MaxPooling2D(pool_size=(2,2)))\n",
    "convnet7.add(Dropout(0.39))\n",
    "\n",
    "#fifth Convnet\n",
    "convnet7.add(Conv2D(128,kernel_size=(2,2), padding='same', activation='relu'))\n",
    "convnet7.add(MaxPooling2D(pool_size=(2,2)))\n",
    "convnet7.add(Dropout(0.3))\n",
    "\n",
    "#sixth Convnet\n",
    "convnet7.add(Conv2D(164,kernel_size=(2,2), padding='same', activation='relu'))\n",
    "\n",
    "#seventh Convnet\n",
    "convnet7.add(Conv2D(164,kernel_size=(2,2), padding='same', activation='relu'))\n",
    "\n",
    "convnet7.add(MaxPooling2D(pool_size=(2,2)))\n",
    "convnet7.add(Dropout(0.4))\n",
    "convnet7.add(Flatten())\n",
    "\n",
    "#hidden_layer\n",
    "convnet7.add(Dense(256, activation='relu', kernel_initializer=he_normal(seed=None)))#1 hidden layer\n",
    "convnet7.add(BatchNormalization())\n",
    "convnet7.add(Dropout(0.5))\n",
    "convnet7.add(Dense(148, activation='relu', kernel_initializer=he_normal(seed=None)))#2 hidden layer\n",
    "convnet7.add(BatchNormalization())\n",
    "convnet7.add(Dropout(0.5))\n",
    "convnet7.add(Dense(128, activation='relu', kernel_initializer=he_normal(seed=None)))#3 hidden layer\n",
    "convnet7.add(BatchNormalization())\n",
    "convnet7.add(Dropout(0.5))\n",
    "convnet7.add(Dense(num_classes,activation='softmax'))\n",
    "print(convnet7.summary())"
   ]
  },
  {
   "cell_type": "markdown",
   "metadata": {
    "colab_type": "text",
    "id": "R5qEmSAy5Ici"
   },
   "source": [
    "##Model compilation"
   ]
  },
  {
   "cell_type": "code",
   "execution_count": 0,
   "metadata": {
    "colab": {
     "base_uri": "https://localhost:8080/",
     "height": 503
    },
    "colab_type": "code",
    "id": "-Tx4Omr4GG1b",
    "outputId": "4bc5da10-32f2-4757-faf5-3016b924fbed"
   },
   "outputs": [
    {
     "name": "stdout",
     "output_type": "stream",
     "text": [
      "Train on 60000 samples, validate on 10000 samples\n",
      "Epoch 1/12\n",
      "60000/60000 [==============================] - 142s 2ms/step - loss: 1.8961 - acc: 0.3754 - val_loss: 1.5272 - val_acc: 0.4652\n",
      "Epoch 2/12\n",
      "60000/60000 [==============================] - 145s 2ms/step - loss: 0.4249 - acc: 0.8774 - val_loss: 0.0784 - val_acc: 0.9765\n",
      "Epoch 3/12\n",
      "60000/60000 [==============================] - 141s 2ms/step - loss: 0.1882 - acc: 0.9518 - val_loss: 0.0854 - val_acc: 0.9789\n",
      "Epoch 4/12\n",
      "60000/60000 [==============================] - 131s 2ms/step - loss: 0.1409 - acc: 0.9645 - val_loss: 0.0484 - val_acc: 0.9870\n",
      "Epoch 5/12\n",
      "60000/60000 [==============================] - 130s 2ms/step - loss: 0.1121 - acc: 0.9717 - val_loss: 0.0372 - val_acc: 0.9907\n",
      "Epoch 6/12\n",
      "60000/60000 [==============================] - 140s 2ms/step - loss: 0.0965 - acc: 0.9760 - val_loss: 0.0347 - val_acc: 0.9915\n",
      "Epoch 7/12\n",
      "60000/60000 [==============================] - 132s 2ms/step - loss: 0.0887 - acc: 0.9779 - val_loss: 0.0382 - val_acc: 0.9907\n",
      "Epoch 8/12\n",
      "60000/60000 [==============================] - 139s 2ms/step - loss: 0.0812 - acc: 0.9799 - val_loss: 0.0353 - val_acc: 0.9920\n",
      "Epoch 9/12\n",
      "60000/60000 [==============================] - 142s 2ms/step - loss: 0.0769 - acc: 0.9807 - val_loss: 0.0340 - val_acc: 0.9919\n",
      "Epoch 10/12\n",
      "60000/60000 [==============================] - 144s 2ms/step - loss: 0.0680 - acc: 0.9835 - val_loss: 0.0358 - val_acc: 0.9911\n",
      "Epoch 11/12\n",
      "60000/60000 [==============================] - 146s 2ms/step - loss: 0.0670 - acc: 0.9836 - val_loss: 0.0286 - val_acc: 0.9934\n",
      "Epoch 12/12\n",
      "60000/60000 [==============================] - 150s 3ms/step - loss: 0.0667 - acc: 0.9833 - val_loss: 0.0309 - val_acc: 0.9911\n",
      "Time taken to run this cell : 0:28:02.350113\n"
     ]
    }
   ],
   "source": [
    "start=datetime.now()\n",
    "convnet7.compile(optimizer=keras.optimizers.Adam(), loss=keras.losses.categorical_crossentropy, metrics=['accuracy'])\n",
    "convnet7_history=convnet7.fit(x_train,y_train,batch_size=batch_size, epochs=epochs, verbose=1, validation_data=(x_test, y_test))\n",
    "print(\"Time taken to run this cell :\", datetime.now() - start)"
   ]
  },
  {
   "cell_type": "markdown",
   "metadata": {
    "colab_type": "text",
    "id": "JMpsGlBH5RyZ"
   },
   "source": [
    "##Model Evaluation"
   ]
  },
  {
   "cell_type": "code",
   "execution_count": 0,
   "metadata": {
    "colab": {
     "base_uri": "https://localhost:8080/",
     "height": 320
    },
    "colab_type": "code",
    "id": "_jmCU5J15OTi",
    "outputId": "052876c9-cfd6-42a6-8043-7de5146ed648"
   },
   "outputs": [
    {
     "name": "stdout",
     "output_type": "stream",
     "text": [
      "test score : 0.03093639321749797\n",
      "test Accuracy : 0.9911\n"
     ]
    },
    {
     "data": {
      "image/png": "[encoded data removed]",
      "text/plain": [
       "<Figure size 432x288 with 1 Axes>"
      ]
     },
     "metadata": {
      "tags": []
     },
     "output_type": "display_data"
    }
   ],
   "source": [
    "score=convnet7.evaluate(x_test,y_test,verbose=0)\n",
    "test_score7=score[0]\n",
    "test_accuracy7=score[1]\n",
    "train_accuracy7=max(convnet7_history.history['acc'])\n",
    "print('test score :',test_score7)\n",
    "print('test Accuracy :',test_accuracy7)\n",
    "# error plot\n",
    "x=list(range(1,epochs+1))\n",
    "vy=convnet7_history.history['val_loss'] #validation loss\n",
    "ty=convnet7_history.history['loss'] # train loss\n",
    "plt_dynamic(x, vy, ty)"
   ]
  },
  {
   "cell_type": "code",
   "execution_count": 11,
   "metadata": {
    "colab": {
     "base_uri": "https://localhost:8080/",
     "height": 147
    },
    "colab_type": "code",
    "id": "50YM6pSp8miR",
    "outputId": "c6d7f941-1504-46c5-f478-041a449dde25"
   },
   "outputs": [
    {
     "name": "stdout",
     "output_type": "stream",
     "text": [
      "+---------------------------+-------------------+---------------+------------+\n",
      "|           Model           | Training Accuracy | Test Accuracy | Time Taken |\n",
      "+---------------------------+-------------------+---------------+------------+\n",
      "| 3ConvNet with kernel 3x3  |       0.9961      |     0.9933    |    1:42    |\n",
      "|  5ConvNet with kernel 5x5 |       0.973       |     0.986     |    2:39    |\n",
      "|  7ConvNet with kernel 2x2 |       0.9833      |     0.9911    |    0:28    |\n",
      "+---------------------------+-------------------+---------------+------------+\n"
     ]
    }
   ],
   "source": [
    "from prettytable import PrettyTable\n",
    "x = PrettyTable()\n",
    "x.field_names = [\"Model\", \"Training Accuracy\", \"Test Accuracy\", \"Time Taken\"]\n",
    "x.add_row([\"3ConvNet with kernel 3x3 \",0.9961, 0.9933, \"1:42\"])\n",
    "x.add_row([\"5ConvNet with kernel 5x5\",0.9730, 0.9860, \"2:39\"])\n",
    "x.add_row([\"7ConvNet with kernel 2x2\", 0.9833, 0.9911, \"0:28\"])\n",
    "print(x)"
   ]
  }
 ],
 "metadata": {
  "colab": {
   "collapsed_sections": [],
   "name": "Untitled1.ipynb",
   "provenance": [],
   "version": "0.3.2"
  },
  "kernelspec": {
   "display_name": "Python 3",
   "language": "python",
   "name": "python3"
  },
  "language_info": {
   "codemirror_mode": {
    "name": "ipython",
    "version": 3
   },
   "file_extension": ".py",
   "mimetype": "text/x-python",
   "name": "python",
   "nbconvert_exporter": "python",
   "pygments_lexer": "ipython3",
   "version": "3.6.8"
  }
 },
 "nbformat": 4,
 "nbformat_minor": 1
}
